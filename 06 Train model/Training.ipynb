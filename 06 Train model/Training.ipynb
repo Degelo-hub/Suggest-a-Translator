{
 "cells": [
  {
   "cell_type": "code",
   "execution_count": 2,
   "id": "399aece2-102d-47bd-b783-4aa4a37e258f",
   "metadata": {},
   "outputs": [
    {
     "name": "stdout",
     "output_type": "stream",
     "text": [
      "Defaulting to user installation because normal site-packages is not writeable\n",
      "Requirement already satisfied: sentence-transformers in ./.local/lib/python3.11/site-packages (4.1.0)\n",
      "Requirement already satisfied: transformers<5.0.0,>=4.41.0 in ./.local/lib/python3.11/site-packages (from sentence-transformers) (4.46.3)\n",
      "Requirement already satisfied: tqdm in ./.local/lib/python3.11/site-packages (from sentence-transformers) (4.67.1)\n",
      "Requirement already satisfied: torch>=1.11.0 in ./.local/lib/python3.11/site-packages (from sentence-transformers) (2.5.1+cpu)\n",
      "Requirement already satisfied: scikit-learn in /software.9/software/Anaconda3/2024.02-1/lib/python3.11/site-packages (from sentence-transformers) (1.2.2)\n",
      "Requirement already satisfied: scipy in /software.9/software/Anaconda3/2024.02-1/lib/python3.11/site-packages (from sentence-transformers) (1.11.4)\n",
      "Requirement already satisfied: huggingface-hub>=0.20.0 in ./.local/lib/python3.11/site-packages (from sentence-transformers) (0.26.3)\n",
      "Requirement already satisfied: Pillow in /software.9/software/Anaconda3/2024.02-1/lib/python3.11/site-packages (from sentence-transformers) (10.2.0)\n",
      "Requirement already satisfied: typing_extensions>=4.5.0 in /software.9/software/Anaconda3/2024.02-1/lib/python3.11/site-packages (from sentence-transformers) (4.9.0)\n",
      "Requirement already satisfied: filelock in /software.9/software/Anaconda3/2024.02-1/lib/python3.11/site-packages (from huggingface-hub>=0.20.0->sentence-transformers) (3.13.1)\n",
      "Requirement already satisfied: fsspec>=2023.5.0 in /software.9/software/Anaconda3/2024.02-1/lib/python3.11/site-packages (from huggingface-hub>=0.20.0->sentence-transformers) (2023.10.0)\n",
      "Requirement already satisfied: packaging>=20.9 in /software.9/software/Anaconda3/2024.02-1/lib/python3.11/site-packages (from huggingface-hub>=0.20.0->sentence-transformers) (23.1)\n",
      "Requirement already satisfied: pyyaml>=5.1 in /software.9/software/Anaconda3/2024.02-1/lib/python3.11/site-packages (from huggingface-hub>=0.20.0->sentence-transformers) (6.0.1)\n",
      "Requirement already satisfied: requests in ./.local/lib/python3.11/site-packages (from huggingface-hub>=0.20.0->sentence-transformers) (2.32.3)\n",
      "Requirement already satisfied: networkx in /software.9/software/Anaconda3/2024.02-1/lib/python3.11/site-packages (from torch>=1.11.0->sentence-transformers) (3.1)\n",
      "Requirement already satisfied: jinja2 in /software.9/software/Anaconda3/2024.02-1/lib/python3.11/site-packages (from torch>=1.11.0->sentence-transformers) (3.1.3)\n",
      "Requirement already satisfied: sympy==1.13.1 in ./.local/lib/python3.11/site-packages (from torch>=1.11.0->sentence-transformers) (1.13.1)\n",
      "Requirement already satisfied: mpmath<1.4,>=1.1.0 in /software.9/software/Anaconda3/2024.02-1/lib/python3.11/site-packages (from sympy==1.13.1->torch>=1.11.0->sentence-transformers) (1.3.0)\n",
      "Requirement already satisfied: numpy>=1.17 in /software.9/software/Anaconda3/2024.02-1/lib/python3.11/site-packages (from transformers<5.0.0,>=4.41.0->sentence-transformers) (1.26.4)\n",
      "Requirement already satisfied: regex!=2019.12.17 in /software.9/software/Anaconda3/2024.02-1/lib/python3.11/site-packages (from transformers<5.0.0,>=4.41.0->sentence-transformers) (2023.10.3)\n",
      "Requirement already satisfied: tokenizers<0.21,>=0.20 in ./.local/lib/python3.11/site-packages (from transformers<5.0.0,>=4.41.0->sentence-transformers) (0.20.3)\n",
      "Requirement already satisfied: safetensors>=0.4.1 in ./.local/lib/python3.11/site-packages (from transformers<5.0.0,>=4.41.0->sentence-transformers) (0.4.5)\n",
      "Requirement already satisfied: joblib>=1.1.1 in /software.9/software/Anaconda3/2024.02-1/lib/python3.11/site-packages (from scikit-learn->sentence-transformers) (1.2.0)\n",
      "Requirement already satisfied: threadpoolctl>=2.0.0 in /software.9/software/Anaconda3/2024.02-1/lib/python3.11/site-packages (from scikit-learn->sentence-transformers) (2.2.0)\n",
      "Requirement already satisfied: MarkupSafe>=2.0 in /software.9/software/Anaconda3/2024.02-1/lib/python3.11/site-packages (from jinja2->torch>=1.11.0->sentence-transformers) (2.1.3)\n",
      "Requirement already satisfied: charset-normalizer<4,>=2 in /software.9/software/Anaconda3/2024.02-1/lib/python3.11/site-packages (from requests->huggingface-hub>=0.20.0->sentence-transformers) (2.0.4)\n",
      "Requirement already satisfied: idna<4,>=2.5 in /software.9/software/Anaconda3/2024.02-1/lib/python3.11/site-packages (from requests->huggingface-hub>=0.20.0->sentence-transformers) (3.4)\n",
      "Requirement already satisfied: urllib3<3,>=1.21.1 in /software.9/software/Anaconda3/2024.02-1/lib/python3.11/site-packages (from requests->huggingface-hub>=0.20.0->sentence-transformers) (2.0.7)\n",
      "Requirement already satisfied: certifi>=2017.4.17 in /software.9/software/Anaconda3/2024.02-1/lib/python3.11/site-packages (from requests->huggingface-hub>=0.20.0->sentence-transformers) (2025.1.31)\n"
     ]
    }
   ],
   "source": [
    "# Vollständige Minimalversion eines Trainingsskripts für ein SimilarBERT-Modell mit Triplet Loss, basierend auf textbasierten Triplets in einer CSV-Datei mit den Spalten anchor, positive, negative.\n",
    "!pip install -U sentence-transformers"
   ]
  },
  {
   "cell_type": "code",
   "execution_count": 3,
   "id": "35920bf8-3ebc-4ad8-870b-d430f1a66246",
   "metadata": {},
   "outputs": [],
   "source": [
    "# Trainingsskript: train_similarbert.py\n",
    "from sentence_transformers import SentenceTransformer, InputExample, losses\n",
    "from torch.utils.data import DataLoader\n",
    "import pandas as pd\n",
    "import os\n"
   ]
  },
  {
   "cell_type": "code",
   "execution_count": 4,
   "id": "df6691af-f0a4-49d6-b73b-d3fdc607b3a8",
   "metadata": {},
   "outputs": [],
   "source": [
    "# ======================\n",
    "# 1. Daten laden\n",
    "# ======================\n",
    "csv_path = 'text_triplets.csv'  # Pfad zu deiner CSV mit anchor, positive, negative\n",
    "df = pd.read_csv(csv_path)\n",
    "\n",
    "# Liste von InputExamples erzeugen\n",
    "train_examples = [\n",
    "    InputExample(texts=[row['anchor'], row['positive'], row['negative']])\n",
    "    for _, row in df.iterrows()\n",
    "]\n",
    "\n"
   ]
  },
  {
   "cell_type": "code",
   "execution_count": 5,
   "id": "d71724cf-9a2b-4515-ae03-639d5ea97c31",
   "metadata": {},
   "outputs": [],
   "source": [
    "# ======================\n",
    "# 2. Modell & Loss definieren\n",
    "# ======================\n",
    "model = SentenceTransformer('distiluse-base-multilingual-cased-v2')  # oder z.B. 'all-MiniLM-L6-v2'\n",
    "\n",
    "# TripletLoss-Objekt erstellen\n",
    "train_loss = losses.TripletLoss(model=model)\n",
    "\n",
    "# DataLoader mit Trainingsbeispielen\n",
    "train_dataloader = DataLoader(train_examples, shuffle=True, batch_size=32)\n",
    "\n"
   ]
  },
  {
   "cell_type": "code",
   "execution_count": 6,
   "id": "fab107b2-83fe-429d-8612-ef3323b1cc0c",
   "metadata": {},
   "outputs": [
    {
     "data": {
      "application/vnd.jupyter.widget-view+json": {
       "model_id": "",
       "version_major": 2,
       "version_minor": 0
      },
      "text/plain": [
       "Computing widget examples:   0%|          | 0/1 [00:00<?, ?example/s]"
      ]
     },
     "metadata": {},
     "output_type": "display_data"
    },
    {
     "data": {
      "text/html": [
       "\n",
       "    <div>\n",
       "      \n",
       "      <progress value='1010' max='1010' style='width:300px; height:20px; vertical-align: middle;'></progress>\n",
       "      [1010/1010 1:25:03, Epoch 5/5]\n",
       "    </div>\n",
       "    <table border=\"1\" class=\"dataframe\">\n",
       "  <thead>\n",
       " <tr style=\"text-align: left;\">\n",
       "      <th>Step</th>\n",
       "      <th>Training Loss</th>\n",
       "    </tr>\n",
       "  </thead>\n",
       "  <tbody>\n",
       "    <tr>\n",
       "      <td>500</td>\n",
       "      <td>3.477000</td>\n",
       "    </tr>\n",
       "    <tr>\n",
       "      <td>1000</td>\n",
       "      <td>1.851900</td>\n",
       "    </tr>\n",
       "  </tbody>\n",
       "</table><p>"
      ],
      "text/plain": [
       "<IPython.core.display.HTML object>"
      ]
     },
     "metadata": {},
     "output_type": "display_data"
    },
    {
     "name": "stdout",
     "output_type": "stream",
     "text": [
      "✅ Training abgeschlossen! Modell gespeichert in 'similarbert_model'\n"
     ]
    }
   ],
   "source": [
    "# ======================\n",
    "# 3. Training\n",
    "# ======================\n",
    "model.fit(\n",
    "    train_objectives=[(train_dataloader, train_loss)],\n",
    "    epochs=5,\n",
    "    warmup_steps=100,\n",
    "    show_progress_bar=True,\n",
    "    output_path='similarbert_model',           # ← finales Modell am Schluss\n",
    "    checkpoint_path='checkpoints/',            # ← Teilschritte hier speichern\n",
    "    checkpoint_save_steps=500,                 # ← alle 500 Schritte speichern\n",
    "    checkpoint_save_total_limit=3              # ← max. 3 Checkpoints behalten\n",
    ")\n",
    "print(\"✅ Training abgeschlossen! Modell gespeichert in 'similarbert_model'\")\n"
   ]
  },
  {
   "cell_type": "code",
   "execution_count": null,
   "id": "525d9f61-372e-4234-a4cd-836bed75a37b",
   "metadata": {},
   "outputs": [],
   "source": [
    "#Modell später neu laden:\n",
    "from sentence_transformers import SentenceTransformer\n",
    "model = SentenceTransformer('similarbert_model')\n"
   ]
  },
  {
   "cell_type": "code",
   "execution_count": null,
   "id": "8bb5e908-299b-4453-b072-f5a3febf942e",
   "metadata": {},
   "outputs": [],
   "source": [
    "#Modell verwenden wie jedes andere SBERT-Modell:\n",
    "emb = model.encode(\"Ein Beispielsatz\", convert_to_tensor=True)\n"
   ]
  },
  {
   "cell_type": "code",
   "execution_count": null,
   "id": "68af07c5-1753-4264-afcc-099190405009",
   "metadata": {},
   "outputs": [],
   "source": []
  },
  {
   "cell_type": "code",
   "execution_count": null,
   "id": "dfa838b5-9010-49c2-8c79-c76a145ad18f",
   "metadata": {},
   "outputs": [],
   "source": []
  }
 ],
 "metadata": {
  "kernelspec": {
   "display_name": "Python 3 (ipykernel)",
   "language": "python",
   "name": "python3"
  },
  "language_info": {
   "codemirror_mode": {
    "name": "ipython",
    "version": 3
   },
   "file_extension": ".py",
   "mimetype": "text/x-python",
   "name": "python",
   "nbconvert_exporter": "python",
   "pygments_lexer": "ipython3",
   "version": "3.11.7"
  }
 },
 "nbformat": 4,
 "nbformat_minor": 5
}
