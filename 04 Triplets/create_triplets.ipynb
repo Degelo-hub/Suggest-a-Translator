{
 "cells": [
  {
   "cell_type": "code",
   "execution_count": 2,
   "id": "888f3ca9-d96b-4bda-b456-84b0ebaf6b9e",
   "metadata": {},
   "outputs": [
    {
     "name": "stdout",
     "output_type": "stream",
     "text": [
      "Erste 5 Translator-Werte:\n",
      "0    kas\n",
      "1    kas\n",
      "2    kas\n",
      "3    kas\n",
      "4    bec\n",
      "Name: Translator, dtype: object\n",
      "\n",
      "Anzahl eindeutiger Translator: 21\n",
      "Translator Liste: ['kas' 'bec' 'chm' 'dod' 'mof' 'pap' 'tih' 'mas' 'frp' 'alp' 'paw' 'ans'\n",
      " 'pam' 'frs' 'evs' 'frf' 'lyj' 'edm' 'anv' 'jog' 'beg']\n"
     ]
    }
   ],
   "source": [
    "# Step 1: load data and check translator row\n",
    "\n",
    "import pandas as pd\n",
    "\n",
    "# CSV laden (angenommen, du hast den DataFrame 'df' bereits)\n",
    "df = pd.read_csv(\"metadata.csv\")  # Pfad anpassen\n",
    "\n",
    "# Nur relevante Spalten nehmen (kannst du anpassen)\n",
    "df_small = df[['Translator']]\n",
    "\n",
    "# Translator-Spalte checken\n",
    "print(\"Erste 5 Translator-Werte:\")\n",
    "print(df_small['Translator'].head())\n",
    "\n",
    "# Eindeutige Translator\n",
    "unique_translators = df_small['Translator'].unique()\n",
    "print(f\"\\nAnzahl eindeutiger Translator: {len(unique_translators)}\")\n",
    "print(\"Translator Liste:\", unique_translators)\n"
   ]
  },
  {
   "cell_type": "code",
   "execution_count": 3,
   "id": "de258c65-f4f6-45fc-8798-c007899f0ee7",
   "metadata": {},
   "outputs": [
    {
     "name": "stdout",
     "output_type": "stream",
     "text": [
      "Translator 'kas' hat 24 Zeilen\n",
      "Translator 'bec' hat 529 Zeilen\n",
      "Translator 'chm' hat 1145 Zeilen\n",
      "Translator 'dod' hat 35 Zeilen\n",
      "Translator 'mof' hat 1445 Zeilen\n",
      "Translator 'pap' hat 32 Zeilen\n",
      "Translator 'tih' hat 120 Zeilen\n",
      "Translator 'mas' hat 1356 Zeilen\n",
      "Translator 'frp' hat 90 Zeilen\n",
      "Translator 'alp' hat 68 Zeilen\n",
      "Translator 'paw' hat 520 Zeilen\n",
      "Translator 'ans' hat 148 Zeilen\n",
      "Translator 'pam' hat 47 Zeilen\n",
      "Translator 'frs' hat 6 Zeilen\n",
      "Translator 'evs' hat 75 Zeilen\n",
      "Translator 'frf' hat 263 Zeilen\n",
      "Translator 'lyj' hat 245 Zeilen\n",
      "Translator 'edm' hat 2 Zeilen\n",
      "Translator 'anv' hat 28 Zeilen\n",
      "Translator 'jog' hat 70 Zeilen\n",
      "Translator 'beg' hat 202 Zeilen\n"
     ]
    }
   ],
   "source": [
    "# Step 2: create list with line indices for each translator\n",
    "\n",
    "from collections import defaultdict\n",
    "\n",
    "# Dictionary: translator -> Liste aller Zeilenindices mit diesem Translator\n",
    "translator_to_indices = defaultdict(list)\n",
    "\n",
    "for idx, translator in enumerate(df_small['Translator']):\n",
    "    translator_to_indices[translator].append(idx)\n",
    "\n",
    "# Beispielausgabe: Anzahl Zeilen pro Translator\n",
    "for translator, indices in translator_to_indices.items():\n",
    "    print(f\"Translator '{translator}' hat {len(indices)} Zeilen\")\n"
   ]
  },
  {
   "cell_type": "code",
   "execution_count": 4,
   "id": "6232ec5f-bb58-4579-abbe-db0c995e932f",
   "metadata": {},
   "outputs": [
    {
     "name": "stdout",
     "output_type": "stream",
     "text": [
      "Triplet 1:\n",
      "  Anchor idx 0 (Translator: kas)\n",
      "  Positiv idx 6431 (Translator: kas)\n",
      "  Negativ idx 430 (Translator: mof)\n",
      "\n",
      "Triplet 2:\n",
      "  Anchor idx 1 (Translator: kas)\n",
      "  Positiv idx 4776 (Translator: kas)\n",
      "  Negativ idx 855 (Translator: frp)\n",
      "\n",
      "Triplet 3:\n",
      "  Anchor idx 2 (Translator: kas)\n",
      "  Positiv idx 4772 (Translator: kas)\n",
      "  Negativ idx 6370 (Translator: mof)\n",
      "\n",
      "Triplet 4:\n",
      "  Anchor idx 3 (Translator: kas)\n",
      "  Positiv idx 6115 (Translator: kas)\n",
      "  Negativ idx 5181 (Translator: dod)\n",
      "\n",
      "Triplet 5:\n",
      "  Anchor idx 4 (Translator: bec)\n",
      "  Positiv idx 84 (Translator: bec)\n",
      "  Negativ idx 2 (Translator: kas)\n",
      "\n",
      "Anzahl erzeugter Triplets: 6450\n"
     ]
    }
   ],
   "source": [
    "# Step 3: create triplets (each row = anchor once), only with meta data, embeddings in step 4\n",
    "\n",
    "import random\n",
    "import numpy as np\n",
    "\n",
    "# Für reproducible Ergebnisse\n",
    "random.seed(42)\n",
    "\n",
    "# Triplets: Liste von (anchor_idx, pos_idx, neg_idx)\n",
    "triplets = []\n",
    "\n",
    "# Anzahl der Zeilen\n",
    "num_rows = len(df_small)\n",
    "\n",
    "for anchor_idx in range(num_rows):\n",
    "    anchor_translator = df_small.loc[anchor_idx, 'Translator']\n",
    "    \n",
    "    pos_candidates = translator_to_indices[anchor_translator].copy()\n",
    "    # Anchor selbst ausschließen\n",
    "    pos_candidates = [idx for idx in pos_candidates if idx != anchor_idx]\n",
    "    \n",
    "    if not pos_candidates:\n",
    "        # Falls kein anderes Beispiel mit gleichem Translator (sehr selten)\n",
    "        continue\n",
    "    \n",
    "    pos_idx = random.choice(pos_candidates)\n",
    "    \n",
    "    # Negativ: Translator anders als Anchor\n",
    "    neg_translators = [t for t in unique_translators if t != anchor_translator]\n",
    "    neg_translator = random.choice(neg_translators)\n",
    "    neg_idx = random.choice(translator_to_indices[neg_translator])\n",
    "    \n",
    "    triplets.append((anchor_idx, pos_idx, neg_idx))\n",
    "    \n",
    "    # Zwischenausgabe für die ersten 5 Triplets\n",
    "    if len(triplets) <= 5:\n",
    "        print(f\"Triplet {len(triplets)}:\")\n",
    "        print(f\"  Anchor idx {anchor_idx} (Translator: {anchor_translator})\")\n",
    "        print(f\"  Positiv idx {pos_idx} (Translator: {anchor_translator})\")\n",
    "        print(f\"  Negativ idx {neg_idx} (Translator: {neg_translator})\")\n",
    "        print()\n",
    "        \n",
    "print(f\"Anzahl erzeugter Triplets: {len(triplets)}\")\n"
   ]
  },
  {
   "cell_type": "code",
   "execution_count": 6,
   "id": "a5e2f0a9-3146-407e-9162-576e2966e2b6",
   "metadata": {},
   "outputs": [
    {
     "name": "stdout",
     "output_type": "stream",
     "text": [
      "Embedding-Shape: (6450, 1024)\n",
      "Shape anchors: (6450, 1024)\n",
      "Shape positives: (6450, 1024)\n",
      "Shape negatives: (6450, 1024)\n"
     ]
    }
   ],
   "source": [
    "# Step 4: create triplets with embeddings and save them\n",
    "\n",
    "import numpy as np\n",
    "\n",
    "# Embeddings laden\n",
    "embeddings = np.load(\"embeddings.npy\")\n",
    "print(\"Embedding-Shape:\", embeddings.shape)  # z.B. (6450, 1024)\n",
    "\n",
    "# Triplet-Vektoren: Listen für Anchor, Positiv, Negativ\n",
    "anchors = []\n",
    "positives = []\n",
    "negatives = []\n",
    "\n",
    "for (anchor_idx, pos_idx, neg_idx) in triplets:\n",
    "    anchors.append(embeddings[anchor_idx])\n",
    "    positives.append(embeddings[pos_idx])\n",
    "    negatives.append(embeddings[neg_idx])\n",
    "\n",
    "# In NumPy-Arrays umwandeln\n",
    "anchors = np.array(anchors)\n",
    "positives = np.array(positives)\n",
    "negatives = np.array(negatives)\n",
    "\n",
    "print(\"Shape anchors:\", anchors.shape)\n",
    "print(\"Shape positives:\", positives.shape)\n",
    "print(\"Shape negatives:\", negatives.shape)\n",
    "\n",
    "# Speicherort für Triplets (nur Vektoren, keine Namen)\n",
    "np.save(\"triplets/triplets_anchor.npy\", anchors)\n",
    "np.save(\"triplets/triplets_positive.npy\", positives)\n",
    "np.save(\"triplets/triplets_negative.npy\", negatives)\n"
   ]
  },
  {
   "cell_type": "code",
   "execution_count": null,
   "id": "57f67054-d107-48c4-bf79-1406c20b95e5",
   "metadata": {},
   "outputs": [],
   "source": []
  }
 ],
 "metadata": {
  "kernelspec": {
   "display_name": "Python 3 (ipykernel)",
   "language": "python",
   "name": "python3"
  },
  "language_info": {
   "codemirror_mode": {
    "name": "ipython",
    "version": 3
   },
   "file_extension": ".py",
   "mimetype": "text/x-python",
   "name": "python",
   "nbconvert_exporter": "python",
   "pygments_lexer": "ipython3",
   "version": "3.11.7"
  }
 },
 "nbformat": 4,
 "nbformat_minor": 5
}
